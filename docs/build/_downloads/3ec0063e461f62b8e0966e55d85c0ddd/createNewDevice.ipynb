{
  "cells": [
    {
      "cell_type": "markdown",
      "metadata": {},
      "source": [
        "\n# EasyCT device creation\n\nThis is an example how to create a new device. In this case a new system for EasyCT\nThe device should be run only one time to create a new device.  A folder with a unique identifier will be created\nAfterwars the device can be read from the folder and added to the new TOR files created\n"
      ]
    },
    {
      "cell_type": "code",
      "execution_count": null,
      "metadata": {
        "collapsed": false
      },
      "outputs": [],
      "source": [
        "import types\nimport matplotlib.pyplot as plt\nimport numpy as np\n# import scipy to perform a fit\nfrom scipy.optimize import curve_fit\nfrom Geometry.easyPETBased import EasyCTGeometry, testSourceDistance\nfrom DetectionLayout.Modules import PETModule, easyPETModule\nfrom DetectionLayout.RadiationProducer import GenericRadiativeSource\nfrom Designer import DeviceDesignerStandalone\nfrom Device import StoreDeviceInFo, EnergyResolutionFunction\nfrom TORFilesReader import ToRFile\nfrom Corrections.General import DetectorSensitivityResponse\n\n\"\"\"SYSTEM ENERGY RESPONSE FUNCTION (Not mandatory)\"\"\"\ndef systemEnergyResponseFunction(E, Er, p1,p2):\n    \"\"\"\n    Energy response function of the system\n    :param energy: energy of the photon\n    :param Er: energy resolution\n    \"\"\"\n    fwhm = np.sqrt((p1/E)**2 + (p2)**2)\n    return fwhm/E\n\n\nenergies = np.array([30, 59.6, 511])\nenergy_resolution = np.array([0.63, 0.33, 0.14])\n\nfit = curve_fit(systemEnergyResponseFunction, energies, energy_resolution)\nplt.plot(energies, energy_resolution, 'ro', label='Data')\nplt.plot(np.arange(25,600, 10), systemEnergyResponseFunction(np.arange(25,600, 10), *fit[0]), 'b-', label='Fit')\nenergy_window = [energies-energies*systemEnergyResponseFunction(energies, *fit[0]),energies+energies*systemEnergyResponseFunction(energies, *fit[0])]\n\nsystemEnergyResolution = EnergyResolutionFunction(p1=fit[0][1], p2=fit[0][2])"
      ]
    },
    {
      "cell_type": "markdown",
      "metadata": {},
      "source": [
        "# Setup the type of the detector module. You should not call the PETModule class directly.\nThis object  should entry as  argument in the geometry class type for proper setting. This allows to set multiple\ncells. Number of modules, rotations and translations are set after the geometry class is created.\n\n"
      ]
    },
    {
      "cell_type": "code",
      "execution_count": null,
      "metadata": {
        "collapsed": false
      },
      "outputs": [],
      "source": [
        "_module = easyPETModule"
      ]
    },
    {
      "cell_type": "markdown",
      "metadata": {},
      "source": [
        "# Setup the x-ray source\n\nNow we define the characteristics of the x-ray source using the `GenericRadiativeSource` class.\nThe source is set to be an Am-241 source with a focal spot diameter of 1 mm, and the shielding is set to be a cylinder made of lead with a density of 11.34 g/cm\u00b3 and a thickness of 0.5 mm.\nSet x-ray producer object\n\n"
      ]
    },
    {
      "cell_type": "code",
      "execution_count": null,
      "metadata": {
        "collapsed": false
      },
      "outputs": [],
      "source": [
        "xrayproducer = GenericRadiativeSource()\nxrayproducer.setSourceName(\"Am-241\")\nxrayproducer.setSourceActivity(1.0 * 37000)\nxrayproducer.setFocalSpotDiameter(1)\nxrayproducer.setShieldingShape(\"Cylinder\")\nxrayproducer.setShieldingMaterial(\"Lead\")\nxrayproducer.setShieldingDensity(11.34)\nxrayproducer.setShieldingThickness(0.5)\nxrayproducer.setShieldingHeight(4)\nxrayproducer.setShieldingRadius(12.5)\nxrayproducer.setMainEmissions({1: {\"energy\": 59.54, \"intensity\": 0.36},\n                                 2: {\"energy\": 26.34, \"intensity\": 0.024},\n                                 })"
      ]
    },
    {
      "cell_type": "markdown",
      "metadata": {},
      "source": [
        "# The next step  is to choose the geometry type, which is `EasyCTGeometry` in this case. This function is inherited\nfrom the DualRotationGeometry class which is an Device Object. Here we set the distance between the two points of rotation,\nthe distance between the fan motor and the detector modules (closest side) and the distance between the fan motor and the detector modules (far side).\nas well as the initial position of the x-ray source.\n\n"
      ]
    },
    {
      "cell_type": "code",
      "execution_count": null,
      "metadata": {
        "collapsed": false
      },
      "outputs": [],
      "source": [
        "newDevice = EasyCTGeometry(detector_moduleA=_module, detector_moduleB=_module, x_ray_producer=xrayproducer)\nnewDevice.setDeviceName(\"EasyCT\")\nnewDevice.setDeviceType(\"CT\")\nnewDevice.setEnergyResolutionFunction(systemEnergyResolution) # use to apply energy cuts\nnewDevice.setDistanceBetweenMotors(30) # Distance between the two points of rotation\nnewDevice.setDistanceFanMotorToDetectorModulesOnSideA(0)  # Distance between the fan motor and the detector modules (closest side)\nnewDevice.setDistanceFanMotorToDetectorModulesOnSideB(60) # Distance between the fan motor and the detector modules (far side)\nnewDevice.xRayProducer.setFocalSpotInitialPositionWKSystem([12.55, 3, 0])\nnewDevice.evaluateInitialSourcePosition() # evaluate the initial position of the source"
      ]
    },
    {
      "cell_type": "markdown",
      "metadata": {},
      "source": [
        "# Set modules Side A. For each module, should be in the list  the equivalent rotation and translation variables.\nIf for example two modules are set, the variables should be in the list as follows:\n  moduleSideA_X_translation = np.array([15, 20], dtype=np.float32)\n  moduleSideA_Y_translation = np.array([0, 0], dtype=np.float32)\n\n  ...\nVery important. The translations are regarding the fan motor center. The rotations are regarding the center of the module.\n\n"
      ]
    },
    {
      "cell_type": "code",
      "execution_count": null,
      "metadata": {
        "collapsed": false
      },
      "outputs": [],
      "source": [
        "newDevice.setNumberOfDetectorModulesSideA(1)\n\nmoduleSideA_X_translation = np.array([15], dtype=np.float32)\nmoduleSideA_Y_translation = np.array([0], dtype=np.float32)\nmoduleSideA_Z_translation = np.array([0], dtype=np.float32)\nmoduleSideA_alpha_rotation = np.array([0], dtype=np.float32)\nmoduleSideA_beta_rotation = np.array([0], dtype=np.float32)\nmoduleSideA_sigma_rotation = np.array([0], dtype=np.float32)\n\nfor i in range(newDevice.numberOfDetectorModulesSideA):\n    newDevice.detectorModulesSideA[i].model32()\n    newDevice.detectorModulesSideA[i].setXTranslation(moduleSideA_X_translation[i])\n    newDevice.detectorModulesSideA[i].setYTranslation(moduleSideA_Y_translation[i])\n    newDevice.detectorModulesSideA[i].setZTranslation(moduleSideA_Z_translation[i])\n    newDevice.detectorModulesSideA[i].setAlphaRotation(moduleSideA_alpha_rotation[i])\n    newDevice.detectorModulesSideA[i].setBetaRotation(moduleSideA_beta_rotation[i])\n    newDevice.detectorModulesSideA[i].setSigmaRotation(moduleSideA_sigma_rotation[i])"
      ]
    },
    {
      "cell_type": "markdown",
      "metadata": {},
      "source": [
        "# Set modules Side B.\n\n"
      ]
    },
    {
      "cell_type": "code",
      "execution_count": null,
      "metadata": {
        "collapsed": false
      },
      "outputs": [],
      "source": [
        "newDevice.setNumberOfDetectorModulesSideB(1)\nmoduleSideB_X_translation = np.array([-75], dtype=np.float32)\nmoduleSideB_Y_translation = np.array([0], dtype=np.float32)\nmoduleSideB_Z_translation = np.array([0], dtype=np.float32)\nmoduleSideB_alpha_rotation = np.array([0], dtype=np.float32)\nmoduleSideB_beta_rotation = np.array([0], dtype=np.float32)\nmoduleSideB_sigma_rotation = np.array([180], dtype=np.float32)\n\nfor i in range(newDevice.numberOfDetectorModulesSideB):\n    newDevice.detectorModulesSideB[i].model32()\n    newDevice.detectorModulesSideB[i].setXTranslation(moduleSideB_X_translation[i])\n    newDevice.detectorModulesSideB[i].setYTranslation(moduleSideB_Y_translation[i])\n    newDevice.detectorModulesSideB[i].setZTranslation(moduleSideB_Z_translation[i])\n    newDevice.detectorModulesSideB[i].setAlphaRotation(moduleSideB_alpha_rotation[i])\n    newDevice.detectorModulesSideB[i].setBetaRotation(moduleSideB_beta_rotation[i])\n    newDevice.detectorModulesSideB[i].setSigmaRotation(moduleSideB_sigma_rotation[i])"
      ]
    },
    {
      "cell_type": "markdown",
      "metadata": {},
      "source": [
        "# Set the inital coordinates of the system. In both coordinate\n\n<img src=\"file://../images/geometry_easypet_mathematical_calculation.png\" alt=\"EasyCT Diagram\" width=\"600px\" align=\"center\">\n\n"
      ]
    },
    {
      "cell_type": "code",
      "execution_count": null,
      "metadata": {
        "collapsed": false
      },
      "outputs": [],
      "source": [
        "newDevice.generateInitialCoordinatesWKSystem()\nnewDevice.generateInitialCoordinatesXYSystem()\n\n# Generate detector sensitivity response (It is necessary to create the device one time first then generate the TOR file for the white scan and then generate the new device)\nfile_white_scan = \"C:\\\\Users\\\\pedro\\\\OneDrive\\\\Ambiente de Trabalho\\\\listmode_whitescan_32x1 (1).tor\"\n# load FILE\nToRFile_sensitivity = ToRFile(filepath=file_white_scan)\nToRFile_sensitivity.read()\n\n# comment this if the resolutionfucntion was not set\ndetector_sensitivity = DetectorSensitivityResponse(TORFile=ToRFile_sensitivity, use_detector_energy_resolution=True)\ndetector_sensitivity.setEnergyPeaks(energies)\ndetector_sensitivity.setEnergyWindows() # can set manually the energy windows. Put flag to use_detector_energy_resolution to False\ndetector_sensitivity.setDetectorSensitivity()\n\n\n# newDevice.generateDeviceUUID() # one time only\n# newDevice.createDirectory()  # one time only\ndevice_path = \"C:\\\\Users\\\\pedro\\\\OneDrive\\\\Documentos\\\\GitHub\\\\Infinity-Tomographic-Reconstruction\\\\configurations\\\\08d98d7f-a3c1-4cdf-a037-54655c7bdbb7_EasyCT\"\n\n# storeDevice = StoreDeviceInFo(device_directory=newDevice.deviceDirectory)  # one time only\nstoreDevice = StoreDeviceInFo(device_directory=device_path)  # one time only\nstoreDevice.createDeviceInDirectory(object=newDevice)\n\nreadDevice = StoreDeviceInFo(device_directory=device_path)\nnewDevice_Read = readDevice.readDeviceFromDirectory()\n# ----------------------------------------------------------\n# TESTS PART\nunique_header = np.repeat(np.arange(0,32), 13)\naxial_motor_angles = (np.zeros(32*13))\nfan_motor_angles = np.tile(np.arange(-90, 105, 15), 32)\n\nnewDevice.detectorSideBCoordinatesAfterMovement(axial_motor_angles, fan_motor_angles, unique_header)\n\n#\n# getDevice = StoreDeviceInFo(device_directory=device_path)\n# deviceRead = getDevice.readDeviceFromDirectory()\n# print(deviceRead)\naxial_motor_angles = np.array([0, 0], dtype=np.float32)\nfan_motor_angles = np.array([0, 0], dtype=np.float32)\nnewDevice.sourcePositionAfterMovement(axial_motor_angles, fan_motor_angles)\nplt.figure(figsize=(10, 10))\nplt.plot(newDevice.originSystemWZ[0], newDevice.originSystemWZ[1], 'ro', label='Origin Fan Motor')\n# plot source center\nplt.plot(newDevice.sourceCenter[:, 0], newDevice.sourceCenter[:, 1], 'bo', label='Source Center')\nplt.plot(newDevice.originSystemXY[0], newDevice.originSystemXY[1], 'ko', label='Origin FOV')\nplt.plot(newDevice.centerFace[:, 0], newDevice.centerFace[:, 1], 'go', label='Center Face Detector Module B')\nplt.plot(newDevice._verticesB[:, :, 0], newDevice._verticesB[:,:, 1], 'mo', label='Vertices Base Detector Module B')\n#plot a line linking the originwz to the center face\nplt.plot([np.ones(newDevice.centerFace.shape[0]) * newDevice.originSystemWZ[0,0],\n            newDevice.centerFace[:, 0]], [np.ones(newDevice.centerFace.shape[0]) * newDevice.originSystemWZ[1,0],\n                                        newDevice.centerFace[:, 1]], '-')\n# plt.xlim(-5,40)\n# plt.ylim(25, 70)\nplt.figure(figsize=(10, 10))\n\n# x an Z direction\nplt.plot(newDevice.originSystemWZ[0], newDevice.originSystemWZ[2], 'ro', label='Origin Fan Motor')\n# plot source center\nplt.plot(newDevice.sourceCenter[:, 0], newDevice.sourceCenter[:, 2], 'bo', label='Source Center')\nplt.plot(newDevice.originSystemXY[0], newDevice.originSystemXY[2], 'ko', label='Origin FOV')\nplt.plot(newDevice.centerFace[:, 0], newDevice.centerFace[:, 2], 'go', label='Center Face Detector Module B')\nplt.plot(newDevice._verticesB[:, :, 0], newDevice._verticesB[:,:, 2], 'mo', label='Vertices Base Detector Module B')\n# plot a line linking the originwz to the center face\n\nplt.show()\ndesigner = DeviceDesignerStandalone(device=newDevice)\ndesigner.addDevice()\ndesigner.addxRayProducerSource()\ndesigner.startRender()"
      ]
    }
  ],
  "metadata": {
    "kernelspec": {
      "display_name": "Python 3",
      "language": "python",
      "name": "python3"
    },
    "language_info": {
      "codemirror_mode": {
        "name": "ipython",
        "version": 3
      },
      "file_extension": ".py",
      "mimetype": "text/x-python",
      "name": "python",
      "nbconvert_exporter": "python",
      "pygments_lexer": "ipython3",
      "version": "3.9.4"
    }
  },
  "nbformat": 4,
  "nbformat_minor": 0
}