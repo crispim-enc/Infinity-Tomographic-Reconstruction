{
  "cells": [
    {
      "cell_type": "markdown",
      "metadata": {},
      "source": [
        "# Siemens Intevo Bold SPECT/CT\n"
      ]
    },
    {
      "cell_type": "code",
      "execution_count": null,
      "metadata": {
        "collapsed": false
      },
      "outputs": [],
      "source": [
        "import pydicom\nimport os\nimport matplotlib.pyplot as plt\nimport numpy as np\n\nfrom skimage.transform import iradon\n\nfrom src.DetectionLayout.Modules import PETModule\nfrom src.DetectionLayout.Modules import easyPETModule\nfrom src.DetectionLayout.Modules.SPECTModuleGeneric import SPECTHeadGeneric\nfrom src.DetectionLayout.Photodetectors.Crystals import GenericCrystal\nfrom src.Geometry.Standard import PlanarGeometry\nfrom src.Designer import DeviceDesignerStandalone\n\n\nfile_path = \"C:\\\\Users\\\\pedro\\\\Downloads\\\\phase_1_challenge_data_03_05_2025\\\\NEMA_phantom-20250221T115435Z-001\\\\NEMA_phantom\\\\SPECT-projections\\\\\"\n\nfile_path = os.path.join(file_path, \"DICOM\\\\25011616\\\\21060000\\\\31702333\")\nds = pydicom.dcmread(file_path)\nprint(ds)"
      ]
    },
    {
      "cell_type": "code",
      "execution_count": null,
      "metadata": {
        "collapsed": false
      },
      "outputs": [],
      "source": [
        "if hasattr(ds, \"PixelData\"):\n    num_frames = getattr(ds, \"NumberOfFrames\", 1)  # Multi-frame images\n    rows, cols = ds.Rows, ds.Columns"
      ]
    },
    {
      "cell_type": "markdown",
      "metadata": {},
      "source": [
        "detector information sequence\n\n"
      ]
    },
    {
      "cell_type": "code",
      "execution_count": null,
      "metadata": {
        "collapsed": false
      },
      "outputs": [],
      "source": [
        "detector_info = ds.DetectorInformationSequence[0]\nradial_positions = detector_info.RadialPosition\nFOV_shape = detector_info.FieldOfViewShape\nFOV_dim = detector_info.FieldOfViewDimensions\nFocal_distance = detector_info.FocalDistance\nstart_angle = detector_info.StartAngle\n#pixel spacing\npixel_spacing = ds.PixelSpacing\n\n# print(f\"Radial Positions: {radial_positions}\")\nrotationVector = ds.RotationVector\nrotationInformationSequence = ds.RotationInformationSequence[0]\nRotationDirection = rotationInformationSequence.RotationDirection\nscanArc = rotationInformationSequence.ScanArc\nangularStep = rotationInformationSequence.AngularStep\n# numberOfFrames = rotationInformationSequence.NumberOfFrames\n\n# arcOfRotation = rotationVector.ScanArc\n\nangularViewVector = np.array(ds.AngularViewVector)\ndetectorVector = np.array(ds.DetectorVector)\n\nprint(f\"Rotation Vector: {rotationVector}\")\n\n\n# module_spect = SPECTHeadGeneric()\n\n\n# module_.setHighEnergyLightDetectorBlock(2)\n\n#\nnewDevice = PlanarGeometry(distance_between_planes=537)\nnewDevice.setDeviceName(\"Siemens SYmbia Intevo Bold SPEC/CT\")\nnewDevice.setNumberOfModulesZ(1)\nnewDevice.setNumberOfModulesPerSide(1)\nnewDevice.setNumberOfModulesPhi(2)\nprint(\"Number of modules: \", newDevice.numberOfModules)\n\nmodules_ = [PETModule(i) for i in range(newDevice.numberOfModules)]\nnewDevice.setDetectorModule(modules_)\n\nfor i in range(newDevice.numberOfModules):\n    newDevice.detectorModule[i].setModuleID(i)\n    newDevice.detectorModule[i].updateNumberHighEnergyLightDetectors(128,128)\n\n    print(\"Number of high energy light detectors: \", newDevice.detectorModule[i].totalNumberHighEnergyLightDetectors)\n\n    newDevice.detectorModule[i].setModelHighEnergyLightDetectors([GenericCrystal(k) for k in\n                                                range(newDevice.detectorModule[i].totalNumberHighEnergyLightDetectors)])\n    for j in range(newDevice.detectorModule[i].totalNumberHighEnergyLightDetectors):\n\n        newDevice.detectorModule[i].modelHighEnergyLightDetectors[j].setCrystalID(j)\n        newDevice.detectorModule[i].modelHighEnergyLightDetectors[j].setCristalSize(pixel_spacing[0], pixel_spacing[0], 30)\n    newDevice.detectorModule[i].setReflectorThicknessX(0)\n    newDevice.detectorModule[i].setReflectorThicknessY(0)\n\n    newDevice.detectorModule[i].setHighEnergyLightDetectorBlock()\n\nnewDevice.calculateInitialGeometry()\n\ndesigner = DeviceDesignerStandalone(device=newDevice)\ndesigner.addDevice()\ndesigner.startRender()\n\nprint(newDevice.getDeviceName())"
      ]
    },
    {
      "cell_type": "code",
      "execution_count": null,
      "metadata": {
        "collapsed": false
      },
      "outputs": [],
      "source": [
        "# Check if the file contains Pixel Data (projection images)\nif hasattr(ds, \"PixelData\"):\n    pixel_array = ds.pixel_array  # Convert pixel data to NumPy array\n\n    num_frames = getattr(ds, \"NumberOfFrames\", 1)  # Check number of projection frames\n    print(f\"Projection Data Found: {num_frames} frames of {ds.Rows}x{ds.Columns} pixels.\")\n\n    # Display first few projections\n    num_display = min(num_frames, 10)  # Show up to 6 projections\n    fig, axes = plt.subplots(1, num_display, figsize=(15, 5))\n    for i in range(num_display):\n        axes[i].imshow(pixel_array[i], cmap=\"gray\")\n        axes[i].set_title(f\"Projection {i+1}\")\n        axes[i].axis(\"off\")\n    # plt.show()\n\nelse:\n    print(\"No Pixel Data found.\")"
      ]
    },
    {
      "cell_type": "markdown",
      "metadata": {},
      "source": [
        "create a sinogram from the dicom information\n\n"
      ]
    },
    {
      "cell_type": "code",
      "execution_count": null,
      "metadata": {
        "collapsed": false
      },
      "outputs": [],
      "source": [
        "print(pixel_array.shape)\nsinogram = pixel_array[40]\n# theta = np.linspace()\n# image = iradon(sinogram, theta=theta, circle=True)\n# plt.imshow(image, cmap='gray')/"
      ]
    }
  ],
  "metadata": {
    "kernelspec": {
      "display_name": "Python 3",
      "language": "python",
      "name": "python3"
    },
    "language_info": {
      "codemirror_mode": {
        "name": "ipython",
        "version": 3
      },
      "file_extension": ".py",
      "mimetype": "text/x-python",
      "name": "python",
      "nbconvert_exporter": "python",
      "pygments_lexer": "ipython3",
      "version": "3.9.4"
    }
  },
  "nbformat": 4,
  "nbformat_minor": 0
}