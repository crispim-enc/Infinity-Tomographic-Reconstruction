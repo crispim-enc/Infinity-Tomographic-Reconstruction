{
  "cells": [
    {
      "cell_type": "markdown",
      "metadata": {},
      "source": [
        "\n# TOR FILE\nThis is an example how to create a TOR file for easyPETCT\nThe file should be run one time to each new acquisition\n"
      ]
    },
    {
      "cell_type": "code",
      "execution_count": null,
      "metadata": {
        "collapsed": false
      },
      "outputs": [],
      "source": [
        "import numpy as np\nimport matplotlib.pyplot as plt\nimport uuid\nimport time\n\n# from toor.StandaloneInitializer.angletoparametricMLEM import output_path\nfrom toor.TORFilesReader import ToRFile, PhantomType, AcquisitionInfo, ListModeBody, RadioisotopeInfo, Technician\nfrom toor.Device import StoreDeviceInFo\n# from toor.Phantoms import NEMAIQ2008NU\nfrom toor.Corrections.General import DetectorSensitivityResponse\nfrom toor.CalibrationWrapper import CalibrationWrapper\nfrom toor.EasyPETLinkInitializer.EasyPETDataReader import binary_data\n\nprint(np.__version__)\nprint(np.__file__)\n\n# filename = \"../../allvalues.npy\"\nfilename = \"C:\\\\Users\\\\regina.oliveira\\\\PycharmProjects\\\\EasyPETCT\\\\listmodes\\\\Am_Na.npy\"\nfilename = \"D:\\\\Pedro\\\\listmode_wirephantom.npy\"\nfilename = \"E:\\\\simulatedsinogram_matrix.npy\"\n# filename = \"D:\\\\Pedro\\\\sensitivity_sim\\\\listmode_sensitivity_sim.npy\"\n# filename = \"C:\\\\Users\\\\regina.oliveira\\\\PycharmProjects\\\\EasyPETCT\\\\listmodes\\\\listmode_sensitivity.npy\"\n# filename = \"C:\\\\Users\\\\pedro\\\\OneDrive\\\\Ambiente de Trabalho\\\\listmode_whitescan_32x1.npy\"\n# output_path = \"C:\\\\Users\\\\pedro\\\\OneDrive\\\\Ambiente de Trabalho\\\\all_values.tor\"\n# output_path = \"C:\\\\Users\\\\pedro\\\\OneDrive\\\\Ambiente de Trabalho\\\\listmode_whitescan_32x1 (1).tor\"\noutput_path = \"C:\\\\Users\\\\regina.oliveira\\\\PycharmProjects\\\\EasyPETCT\\\\listmodes\\\\listmode_24Mar2025-17h54m00s.tor\"\noutput_path = \"D:\\\\Pedro\\\\listmode_wirephantom.tor\"\noutput_path = \"E:\\\\simulatedsinogram_matrix.tor\"\n# output_path = \"E:\\\\sensitivity_sim.tor\"\n# output_path = \"C:\\\\Users\\\\regina.oliveira\\\\PycharmProjects\\\\EasyPETCT\\\\listmodes\\\\listmode_sensitivity.tor\"\n#\n# if not os.path.exists(output_path):\n#     os.makedirs(output_path)\n\n\n# device_path = \"C:\\\\Users\\\\regina.oliveira\\\\PycharmProjects\\\\EasyPETCT\\\\.venv\\\\Lib\\\\site-packages\\\\configurations\\\\fda0f3b2-a0ae-470d-b30a-40e85b741c13_EasyCT\"\ndevice_path = r\"C:\\Users\\pedro\\OneDrive\\Documentos\\GitHub\\Infinity-Tomographic-Reconstruction\\configurations\\b4593ba9-7193-43c8-abed-7a07eeeabb8d_EasyCT_simulation_16_2\"\ndevice_path = r\"C:\\Users\\pedro\\OneDrive\\Documentos\\GitHub\\Infinity-Tomographic-Reconstruction\\configurations\\5433bf80-06b5-468f-9692-674f4b007605_EasyCT_simulation_16_2_special\"\n\ngetDevice = StoreDeviceInFo(device_directory=device_path)\nnewDevice = getDevice.readDeviceFromDirectory()\nprint(newDevice)\n# -----------------------------------------\n# create listMode\n# IF Animal\n# subject = AnimalType()\n# subject.setHealthy(True)\n# ....\n\n# IF Phantom\nsubject = PhantomType()\nsubject.setPhantomName(\"Na-22 source\")\nsubject.setPhantomPurpose(\"CT scan\")\nsubject.setPhantomDescription(\"CT scan of the Na-22 point source\")\n# subject.setDigitalPhantomCopy(NEMAIQ2008NU())\n\n# If PET/SPECT/COMPTON\nradioisotope = RadioisotopeInfo()\nradioisotope.setTracers([\"Na22\"])\nradioisotope.setHalfLifes([float(2.60 * 365 * 24 * 3600)])\nradioisotope.setDecayTypes([\"BetaPlus\"])\nradioisotope.setDecayEnergies([511])\n\n# Tecnhician\ntecnhician = Technician()\ntecnhician.setName(\"Regina Oliveira\")\ntecnhician.setRole(\"Researcher\")\ntecnhician.setOrganization(\"Universidade de Aveiro\")\n\nscanHeader = AcquisitionInfo()\nscanHeader.setId(1)\nscanHeader.setScanType(\"CT\")\nscanHeader.setIndexesOfFrames([0, 1000, 2000, 3000, 4000])\nscanHeader.setSubject(subject)\nscanHeader.setTecnhician(tecnhician)\n# scanHeader.setNumberOfFrames(1)\nscanHeader.setInstanceUID(str(uuid.uuid4()))\nscanHeader.setStudyInstanceUID(str(uuid.uuid4()))\nscanHeader.setFrameOfReferenceUID(str(uuid.uuid4()))\nscanHeader.setDate(time.strftime(\"%Y-%m-%d %H:%M:%S\"))\n# IF PET/SPECT/COMPTON\n# scanHeader.setRadioisotope(radioisotope)\n\nlistmode = np.load(filename)\nlistmode[:, 3] = np.copy(listmode[:, 2])  # invert ID_A and ID_B\nlistmode[:, 2] = 0\nlistmode[:, 1] = np.copy(listmode[:, 0]) * 1000\nlistmode[:, 0] = 0\n\neven_mask = listmode[:, 3] % 2 == 0\nodd_mask = listmode[:, 3] % 2 != 0\nlistmode[:, 3][even_mask] += 1\nlistmode[:, 3][odd_mask] -= 1\n\nlistModeBody = ListModeBody()\nlistModeBody.setListmode(listmode)\nlistModeBody.setListmodeFields([\"ENERGYA\", \"ENERGYB\", \"IDA\", \"IDB\", \"AXIAL_MOTOR\", \"FAN_MOTOR\", \"TIME\"])\nlistModeBody.setFrameStartIndexes(scanHeader.indexesOfFrames)\nlistModeBody.generateStatistics()\nlistModeBody.printStatistics()\nlistModeBody.setGlobalDetectorID()\nlistModeBody.setCountsPerGlobalID()"
      ]
    },
    {
      "cell_type": "markdown",
      "metadata": {},
      "source": [
        "Generate detector sensitivity response (It is necessary to create the device one time first then generate the TOR file for the white scan and then generate the new device)\n\n"
      ]
    },
    {
      "cell_type": "code",
      "execution_count": null,
      "metadata": {
        "collapsed": false
      },
      "outputs": [],
      "source": [
        "calibrations = CalibrationWrapper()\n# file_white_scan = r\"C:\\Users\\regina.oliveira\\PycharmProjects\\EasyPETCT\\listmodes\\listmode_whitescan_32x1 (1).tor\"\n# file_white_scan = r\"C:\\Users\\regina.oliveira\\PycharmProjects\\EasyPETCT\\listmodes\\listmode_sensitivity.tor\"\nfile_white_scan = \"E:\\\\sensitivity_sim.tor\"\n# load FILE\nToRFile_sensitivity = ToRFile(filepath=file_white_scan)\nToRFile_sensitivity.read()\n\nenergies = np.array([30, 59.6, 511])\nenergy_windows = np.array([[10, 40], [45, 80], [511, 511]])\n# comment this if the resolutionfucntion was not set\ndetector_sensitivity = DetectorSensitivityResponse(use_detector_energy_resolution=False)\ndetector_sensitivity.setEnergyPeaks(energies)\ndetector_sensitivity.setEnergyWindows(energyWindows=energy_windows,\n                                      torFile=None)  # can set manually the energy windows. Put flag to use_detector_energy_resolution to False\ndetector_sensitivity.setDetectorSensitivity(torFile=ToRFile_sensitivity)\n# detector_sensitivity.setDetectorSensitivity(generate_uniform=True, fileBodyData=listModeBody)\ncalibrations.setSystemSensitivity(detector_sensitivity)\n\nplt.figure()\nplt.hist(listModeBody[\"IDB\"], bins=32)\nplt.show()\n\nToRFile_creator = ToRFile(filepath=output_path)\nToRFile_creator.setSystemInfo(newDevice)\nToRFile_creator.setAcquisitionInfo(scanHeader)\nToRFile_creator.setCalibrations(calibrations)\nToRFile_creator.setfileBodyData(listModeBody)\nToRFile_creator.write()\n\n#######CHECK TESTS###################\n#######UNCOMMENT TO CHECK FILE AND GEOMETRY INTEGRATY############\nToRFile_reader = ToRFile(filepath=output_path)\nToRFile_reader.read()\nlistModeBody_read = ToRFile_reader.fileBodyData\n\nplt.hist(listModeBody_read[\"ENERGYB\"], bins=500)\nplt.figure()\nplt.hist2d(listModeBody_read[\"AXIAL_MOTOR\"], listModeBody_read[\"FAN_MOTOR\"],\n           bins=(listModeBody_read.uniqueValuesCount[4], listModeBody_read.uniqueValuesCount[5]))\nplt.show()\nprint(ToRFile_reader.systemInfo)\n\ndeviceFromTOR = ToRFile_reader.systemInfo\n\naxial_motor_angles = np.deg2rad(np.arange(0, 360, 45))\nfan_motor_angles = np.deg2rad(np.arange(-45, 60, 15))\n# repeat the fan motor angles for each axial motor angle\nfan_motor_angles = np.repeat(fan_motor_angles, len(axial_motor_angles))\naxial_motor_angles = np.tile(axial_motor_angles, len(fan_motor_angles) // len(axial_motor_angles))\n\ndeviceFromTOR.sourcePositionAfterMovement(axial_motor_angles, fan_motor_angles)\nplt.plot(deviceFromTOR.originSystemWZ[0], deviceFromTOR.originSystemWZ[1], 'ro', label='Origin Fan Motor')\n# plot source center\nplt.plot(deviceFromTOR.sourceCenter[:, 0], deviceFromTOR.sourceCenter[:, 1], 'bo', label='Source Center')\n# plot a line from the origin to the source center at fan motor angle 0\n# testSourceDistance(deviceFromTOR.xRayProducer.focalSpotInitialPositionWKSystem, deviceFromTOR.sourceCenter,\n#                    deviceFromTOR.originSystemWZ.T)\nindex_fan_motor_angle_0 = np.where(fan_motor_angles == 0)\nsource_center_fan_motor_angle_0 = deviceFromTOR.sourceCenter[index_fan_motor_angle_0]\norigin_fan_motor_angle_0 = deviceFromTOR.originSystemWZ.T[index_fan_motor_angle_0]\n\n# plt.plot(origin_fan_motor_angle_0[0], origin_fan_motor_angle_0[1], 'x')\nplt.plot(source_center_fan_motor_angle_0[:, 0], source_center_fan_motor_angle_0[:, 1], 'gx')\n\nplt.plot([origin_fan_motor_angle_0[:, 0], source_center_fan_motor_angle_0[:, 0]],\n         [origin_fan_motor_angle_0[:, 1], source_center_fan_motor_angle_0[:, 1]], '-')\nplt.legend()\nplt.title(\"Configuration Source side of detector module A\")\nplt.title(\"Configuration Source in front module\")\nplt.show()\n\n# designer = DeviceDesignerStandalone(device=deviceFromTOR)\n# designer.addDevice()\n# designer.addxRayProducerSource()\n# designer.startRender()\n\n# ToRFile_creator.setAcquisitionInfo(scanHeader)\n# ToRFile_creator.setListMode(listmode)"
      ]
    }
  ],
  "metadata": {
    "kernelspec": {
      "display_name": "Python 3",
      "language": "python",
      "name": "python3"
    },
    "language_info": {
      "codemirror_mode": {
        "name": "ipython",
        "version": 3
      },
      "file_extension": ".py",
      "mimetype": "text/x-python",
      "name": "python",
      "nbconvert_exporter": "python",
      "pygments_lexer": "ipython3",
      "version": "3.9.4"
    }
  },
  "nbformat": 4,
  "nbformat_minor": 0
}