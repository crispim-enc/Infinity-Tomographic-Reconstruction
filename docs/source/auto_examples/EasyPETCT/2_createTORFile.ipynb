{
  "cells": [
    {
      "cell_type": "markdown",
      "metadata": {},
      "source": [
        "\n# TOR FILE\nThis is an example how to create a TOR file for easyPETCT\nThe file should be run one time to each new acquisition\n"
      ]
    },
    {
      "cell_type": "code",
      "execution_count": null,
      "metadata": {
        "collapsed": false
      },
      "outputs": [],
      "source": [
        "import os\nimport numpy as np\nimport matplotlib.pyplot as plt\nimport uuid\nimport time\nfrom TORFilesReader import ToRFile, AnimalType, PhantomType, AcquisitionInfo, ListModeBody, RadioisotopeInfo, Technician\nfrom Device import StoreDeviceInFo\nfrom Phantoms import NEMAIQ2008NU\n\nprint(np.__version__)\nprint(np.__file__)\n\n\n# filename = \"../../allvalues.npy\"\nfilename = \"C:\\\\Users\\\\pedro\\\\OneDrive\\\\Ambiente de Trabalho\\\\intelligent_scan-NewGeometries-CT\\\\allvalues.npy\"\n# filename = \"C:\\\\Users\\\\pedro\\\\OneDrive\\\\Ambiente de Trabalho\\\\listmode_whitescan_32x1.npy\"\noutput_path = \"C:\\\\Users\\\\pedro\\\\OneDrive\\\\Ambiente de Trabalho\\\\all_values.tor\"\n# output_path = \"C:\\\\Users\\\\pedro\\\\OneDrive\\\\Ambiente de Trabalho\\\\listmode_whitescan_32x1 (1).tor\"\n#\n# if not os.path.exists(output_path):\n#     os.makedirs(output_path)\n\n\ndevice_path = \"C:\\\\Users\\\\pedro\\\\OneDrive\\\\Documentos\\\\GitHub\\\\Infinity-Tomographic-Reconstruction\\\\configurations\\\\08d98d7f-a3c1-4cdf-a037-54655c7bdbb7_EasyCT\"\n\ngetDevice = StoreDeviceInFo(device_directory=device_path)\nnewDevice = getDevice.readDeviceFromDirectory()\nprint(newDevice)\n#-----------------------------------------\n# create listMode\n# IF Animal\n# subject = AnimalType()\n# subject.setHealthy(True)\n# ....\n\n# IF Phantom\nsubject = PhantomType()\nsubject.setPhantomName(\"NEMA IQ 2008 NU\")\nsubject.setPhantomPurpose(\"Calibration\")\nsubject.setPhantomDescription(\"NEMA IQ 2008 NU phantom for calibration\")\nsubject.setDigitalPhantomCopy(NEMAIQ2008NU())\n\n# If PET/SPECT/COMPTON\nradioisotope = RadioisotopeInfo()\nradioisotope.setTracers([\"18F\"])\nradioisotope.setHalfLifes([float(109.771 * 60) ])\nradioisotope.setDecayTypes([\"BetaPlus\"])\nradioisotope.setDecayEnergies([511])\n\n# Tecnhician\ntecnhician = Technician()\ntecnhician.setName(\"Pedro Encarna\u00e7\u00e3o\")\ntecnhician.setRole(\"Researcher\")\ntecnhician.setOrganization(\"Universidade de Aveiro\")\n\n\nscanHeader = AcquisitionInfo()\nscanHeader.setId(1)\nscanHeader.setScanType(\"CT\")\nscanHeader.setIndexesOfFrames([0, 1000, 2000, 3000, 4000])\nscanHeader.setSubject(subject)\nscanHeader.setTecnhician(tecnhician)\n# scanHeader.setNumberOfFrames(1)\nscanHeader.setInstanceUID(str(uuid.uuid4()))\nscanHeader.setStudyInstanceUID(str(uuid.uuid4()))\nscanHeader.setFrameOfReferenceUID(str(uuid.uuid4()))\nscanHeader.setDate(time.strftime(\"%Y-%m-%d %H:%M:%S\"))\n# IF PET/SPECT/COMPTON\n# scanHeader.setRadioisotope(radioisotope)\n\nlistmode = np.load(filename)\nlistmode[:,3] = np.copy(listmode[:,2])# invert ID_A and ID_B\nlistmode[:,2] = 0\nlistmode[:,1] = np.copy(listmode[:,0]) * 1000\nlistmode[:,0] = 0\n\nlistModeBody = ListModeBody()\nlistModeBody.setListmode(listmode)\nlistModeBody.setListmodeFields([\"ENERGYA\", \"ENERGYB\", \"IDA\", \"IDB\", \"AXIAL_MOTOR\", \"FAN_MOTOR\", \"TIME\"])\nlistModeBody.setFrameStartIndexes(scanHeader.indexesOfFrames)\nlistModeBody.generateStatistics()\nlistModeBody.printStatistics()\nlistModeBody.setGlobalDetectorID()\nlistModeBody.setCountsPerGlobalID()\n\nplt.figure()\nplt.hist(listModeBody[\"IDB\"], bins=32)\nplt.show()\n\nToRFile_creator = ToRFile(filepath=output_path)\nToRFile_creator.setSystemInfo(newDevice)\nToRFile_creator.setAcquisitionInfo(scanHeader)\nToRFile_creator.setfileBodyData(listModeBody)\nToRFile_creator.write()\n\n#######CHECK TESTS###################\n#######UNCOMMENT TO CHECK FILE AND GEOMETRY INTEGRATY############\nToRFile_reader = ToRFile(filepath=output_path)\nToRFile_reader.read()\nlistModeBody_read = ToRFile_reader.fileBodyData\n\nplt.hist(listModeBody_read[\"ENERGYB\"], bins=500)\nplt.figure()\nplt.hist2d(listModeBody_read[\"AXIAL_MOTOR\"], listModeBody_read[\"FAN_MOTOR\"],\n           bins=(listModeBody_read.uniqueValuesCount[4], listModeBody_read.uniqueValuesCount[5]))\nplt.show()\nprint(ToRFile_reader.systemInfo)\n\ndeviceFromTOR = ToRFile_reader.systemInfo\n\naxial_motor_angles = np.deg2rad(np.arange(0, 360, 45))\nfan_motor_angles = np.deg2rad(np.arange(-45, 60, 15))\n# repeat the fan motor angles for each axial motor angle\nfan_motor_angles = np.repeat(fan_motor_angles, len(axial_motor_angles))\naxial_motor_angles = np.tile(axial_motor_angles, len(fan_motor_angles) // len(axial_motor_angles))\n\ndeviceFromTOR.sourcePositionAfterMovement(axial_motor_angles, fan_motor_angles)\nplt.plot(deviceFromTOR.originSystemWZ[0], deviceFromTOR.originSystemWZ[1], 'ro', label='Origin Fan Motor')\n# plot source center\nplt.plot(deviceFromTOR.sourceCenter[:, 0], deviceFromTOR.sourceCenter[:, 1], 'bo', label='Source Center')\n# plot a line from the origin to the source center at fan motor angle 0\n# testSourceDistance(deviceFromTOR.xRayProducer.focalSpotInitialPositionWKSystem, deviceFromTOR.sourceCenter,\n#                    deviceFromTOR.originSystemWZ.T)\nindex_fan_motor_angle_0 = np.where(fan_motor_angles == 0)\nsource_center_fan_motor_angle_0 = deviceFromTOR.sourceCenter[index_fan_motor_angle_0]\norigin_fan_motor_angle_0 = deviceFromTOR.originSystemWZ.T[index_fan_motor_angle_0]\n\n# plt.plot(origin_fan_motor_angle_0[0], origin_fan_motor_angle_0[1], 'x')\nplt.plot(source_center_fan_motor_angle_0[:, 0], source_center_fan_motor_angle_0[:, 1], 'gx')\n\nplt.plot([origin_fan_motor_angle_0[:, 0], source_center_fan_motor_angle_0[:, 0]],\n         [origin_fan_motor_angle_0[:, 1], source_center_fan_motor_angle_0[:, 1]], '-')\nplt.legend()\nplt.title(\"Configuration Source side of detector module A\")\nplt.title(\"Configuration Source in front module\")\nplt.show()\n\n# designer = DeviceDesignerStandalone(device=deviceFromTOR)\n# designer.addDevice()\n# designer.addxRayProducerSource()\n# designer.startRender()\n\n# ToRFile_creator.setAcquisitionInfo(scanHeader)\n# ToRFile_creator.setListMode(listmode)"
      ]
    }
  ],
  "metadata": {
    "kernelspec": {
      "display_name": "Python 3",
      "language": "python",
      "name": "python3"
    },
    "language_info": {
      "codemirror_mode": {
        "name": "ipython",
        "version": 3
      },
      "file_extension": ".py",
      "mimetype": "text/x-python",
      "name": "python",
      "nbconvert_exporter": "python",
      "pygments_lexer": "ipython3",
      "version": "3.9.4"
    }
  },
  "nbformat": 4,
  "nbformat_minor": 0
}