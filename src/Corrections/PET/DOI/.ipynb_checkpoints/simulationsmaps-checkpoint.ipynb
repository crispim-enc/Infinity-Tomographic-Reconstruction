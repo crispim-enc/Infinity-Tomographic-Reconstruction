{
 "cells": [
  {
   "cell_type": "code",
   "execution_count": 1,
   "metadata": {},
   "outputs": [
    {
     "ename": "ModuleNotFoundError",
     "evalue": "No module named 'uproot'",
     "output_type": "error",
     "traceback": [
      "\u001b[1;31m---------------------------------------------------------------------------\u001b[0m",
      "\u001b[1;31mModuleNotFoundError\u001b[0m                       Traceback (most recent call last)",
      "\u001b[1;32m<ipython-input-1-6711c3cb143c>\u001b[0m in \u001b[0;36m<module>\u001b[1;34m\u001b[0m\n\u001b[0;32m      2\u001b[0m \u001b[1;32mimport\u001b[0m \u001b[0mglob\u001b[0m\u001b[1;33m\u001b[0m\u001b[1;33m\u001b[0m\u001b[0m\n\u001b[0;32m      3\u001b[0m \u001b[1;32mimport\u001b[0m \u001b[0mnumpy\u001b[0m \u001b[1;32mas\u001b[0m \u001b[0mnp\u001b[0m\u001b[1;33m\u001b[0m\u001b[1;33m\u001b[0m\u001b[0m\n\u001b[1;32m----> 4\u001b[1;33m \u001b[1;32mimport\u001b[0m \u001b[0muproot\u001b[0m\u001b[1;33m\u001b[0m\u001b[1;33m\u001b[0m\u001b[0m\n\u001b[0m\u001b[0;32m      5\u001b[0m \u001b[1;32mimport\u001b[0m \u001b[0mos\u001b[0m\u001b[1;33m\u001b[0m\u001b[1;33m\u001b[0m\u001b[0m\n\u001b[0;32m      6\u001b[0m \u001b[1;32mimport\u001b[0m \u001b[0mjson\u001b[0m\u001b[1;33m\u001b[0m\u001b[1;33m\u001b[0m\u001b[0m\n",
      "\u001b[1;31mModuleNotFoundError\u001b[0m: No module named 'uproot'"
     ]
    }
   ],
   "source": [
    "import time\n",
    "import glob\n",
    "import numpy as np\n",
    "import uproot\n",
    "import os\n",
    "import json\n",
    "import matplotlib.pyplot as plt\n",
    "try:\n",
    "    from src.GateLink.RootToTor import ReadRootFile\n",
    "except ModuleNotFoundError:\n",
    "    from readroot import ReadRootFile\n",
    "\n",
    "file_path = \"C:\\\\Users\\\\pedro\\\\OneDrive - Universidade de Aveiro\\\\SimulacoesGATE\\\\EasyPET3D64\\\\\" \\\n",
    "            \"FOV-UniformSource\\\\20-December-2022_17h23_8turn_0p005s_1p80bot_0p23top_range108\\\\\" \\\n",
    "            \"easyPET_part0_filtered.root\"\n",
    "    # file_path = '/home/crispim/Documentos/Simulations/easyPET_part0_copy.root'"
   ]
  },
  {
   "cell_type": "code",
   "execution_count": null,
   "metadata": {
    "pycharm": {
     "name": "#%%coinc = GenerateCoincidencesAndAnhnilationsPositions(filename=file_path)\n"
    }
   },
   "outputs": [],
   "source": [
    "coinc = ReadRootFile(filename=file_path)\n",
    "# coinc._partNumber = 0\n",
    "coinc.setPartNumber(0)\n",
    "coinc.setDoubleScannerFormat(True)\n",
    "coinc.readRoot()\n",
    "# arrays_keys = ['time', 'baseID', 'runID','eventID', 'energy', 'level1ID', 'level2ID', 'level3ID']\n",
    "arrays_keys = ['time', 'baseID', 'runID', 'eventID', 'sourcePosX', 'sourcePosY', 'sourcePosZ', 'energy',\n",
    "               'globalPosX', 'globalPosY',\n",
    "               'globalPosZ', 'level1ID', 'level2ID', 'level3ID', 'level4ID']\n",
    "coinc.setArraysToConvert(coinc.singlesScanner1, arrays_keys)\n",
    "coinc.setArraysToConvert(coinc.singlesScanner2, arrays_keys)\n",
    "\n"
   ]
  }
 ],
 "metadata": {
  "kernelspec": {
   "display_name": "Python 3",
   "language": "python",
   "name": "python3"
  },
  "language_info": {
   "codemirror_mode": {
    "name": "ipython",
    "version": 3
   },
   "file_extension": ".py",
   "mimetype": "text/x-python",
   "name": "python",
   "nbconvert_exporter": "python",
   "pygments_lexer": "ipython3",
   "version": "3.8.5"
  }
 },
 "nbformat": 4,
 "nbformat_minor": 1
}
